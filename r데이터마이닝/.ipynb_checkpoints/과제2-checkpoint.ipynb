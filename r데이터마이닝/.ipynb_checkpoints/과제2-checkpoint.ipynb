{
 "cells": [
  {
   "cell_type": "code",
   "execution_count": 23,
   "metadata": {},
   "outputs": [],
   "source": [
    "import numpy as np\n",
    "\n",
    "def deriv(w):\n",
    "    partial_b = -np.sum(y*(1-(1/(1+np.exp(-w[1]*x - w[0])))))+np.sum((1-y)*1/(1+np.exp(-w[1]*x - w[0])))\n",
    "    partial_w = -np.sum(y*x*(1-(1/(1+np.exp(-w[1]*x - w[0]))))) + np.sum((1-y)*x*1/(1+np.exp(-w[1]*x - w[0])))\n",
    "    return np.array([partial_b, partial_w])\n",
    "\n",
    "deriv(np.array([0.5,0.5]))\n",
    "\n",
    "x=np.array([1,2,3,4,5,6])\n",
    "y=np.array([0,0,0,1,1,1])\n",
    "\n",
    "w = np.array([0.5,0.5])   #w와 b를 벡터로\n",
    "\n",
    "yhat = 1/(1+np.exp(-w[1]*x-w[0]))\n",
    "\n",
    "alpha = 0.1   #람다\n",
    "for i in range(5000):\n",
    "    w = w - alpha * deriv(w)\n",
    "    yhat = 1/(1+np.exp(-w[1]*x-w[0]))\n",
    "    if i % 1000 == 0:\n",
    "        print(w[0], w[1],yhat)"
   ]
  },
  {
   "cell_type": "code",
   "execution_count": null,
   "metadata": {},
   "outputs": [],
   "source": []
  }
 ],
 "metadata": {
  "kernelspec": {
   "display_name": "Python 3",
   "language": "python",
   "name": "python3"
  },
  "language_info": {
   "codemirror_mode": {
    "name": "ipython",
    "version": 3
   },
   "file_extension": ".py",
   "mimetype": "text/x-python",
   "name": "python",
   "nbconvert_exporter": "python",
   "pygments_lexer": "ipython3",
   "version": "3.7.3"
  }
 },
 "nbformat": 4,
 "nbformat_minor": 2
}
