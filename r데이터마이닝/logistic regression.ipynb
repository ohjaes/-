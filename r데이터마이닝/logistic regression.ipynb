{
 "cells": [
  {
   "cell_type": "code",
   "execution_count": 1,
   "metadata": {},
   "outputs": [],
   "source": [
    "import os\n",
    "os.environ['TF_CPP_MIN_LOG_LEVEL']='2'"
   ]
  },
  {
   "cell_type": "code",
   "execution_count": 2,
   "metadata": {},
   "outputs": [],
   "source": [
    "import tensorflow as tf"
   ]
  },
  {
   "cell_type": "code",
   "execution_count": 3,
   "metadata": {},
   "outputs": [],
   "source": [
    "xData=[[1,2,1],\n",
    "       [1,3,2],\n",
    "       [1,3,4],\n",
    "       [1,5,5],\n",
    "       [1,7,5],\n",
    "       [1,2,5]]\n",
    "yData=[[0],[0],[0],[1],[1],[1]]"
   ]
  },
  {
   "cell_type": "code",
   "execution_count": 4,
   "metadata": {},
   "outputs": [],
   "source": [
    "x=tf.placeholder(tf.float32, shape=[None,3])\n",
    "y=tf.placeholder(tf.float32, shape=[None,1])"
   ]
  },
  {
   "cell_type": "code",
   "execution_count": 6,
   "metadata": {},
   "outputs": [
    {
     "name": "stdout",
     "output_type": "stream",
     "text": [
      "WARNING:tensorflow:From C:\\Users\\user\\Anaconda3\\lib\\site-packages\\tensorflow\\python\\framework\\op_def_library.py:263: colocate_with (from tensorflow.python.framework.ops) is deprecated and will be removed in a future version.\n",
      "Instructions for updating:\n",
      "Colocations handled automatically by placer.\n"
     ]
    }
   ],
   "source": [
    "w=tf.Variable(tf.random_uniform([3,1], -1,1))"
   ]
  },
  {
   "cell_type": "code",
   "execution_count": 11,
   "metadata": {},
   "outputs": [],
   "source": [
    "yhat=tf.sigmoid(tf.matmul(x,w))\n",
    "cost=tf.reduce_mean(-y*tf.log(yhat)-(1-y)*tf.log(1-yhat))"
   ]
  },
  {
   "cell_type": "code",
   "execution_count": 13,
   "metadata": {},
   "outputs": [],
   "source": [
    "lamda=tf.constant(0.1)\n",
    "train=tf.train.GradientDescentOptimizer(lamda).minimize(cost)\n",
    "pred=tf.cast(yhat>0.5, dtype=tf.float32)\n",
    "accuracy=tf.reduce_mean(tf.cast(tf.equal(pred,y), dtype=tf.float32))"
   ]
  },
  {
   "cell_type": "code",
   "execution_count": 14,
   "metadata": {},
   "outputs": [],
   "source": [
    "init=tf.global_variables_initializer()"
   ]
  },
  {
   "cell_type": "code",
   "execution_count": 15,
   "metadata": {},
   "outputs": [],
   "source": [
    "sess=tf.Session()\n",
    "sess.run(init)"
   ]
  },
  {
   "cell_type": "code",
   "execution_count": 17,
   "metadata": {},
   "outputs": [
    {
     "name": "stdout",
     "output_type": "stream",
     "text": [
      "0 0.71856207\n",
      "20 0.6443338\n",
      "40 0.60318357\n",
      "60 0.5683037\n",
      "80 0.538226\n",
      "100 0.5119782\n",
      "120 0.48888275\n",
      "140 0.46843305\n",
      "160 0.45022917\n",
      "180 0.4339449\n",
      "200 0.41931\n",
      "220 0.40609857\n",
      "240 0.3941206\n",
      "260 0.38321617\n",
      "280 0.3732499\n",
      "300 0.3641068\n",
      "320 0.35568905\n",
      "340 0.34791282\n",
      "360 0.34070626\n",
      "380 0.3340074\n",
      "400 0.3277628\n",
      "420 0.3219258\n",
      "440 0.31645605\n",
      "460 0.3113179\n",
      "480 0.30648038\n",
      "500 0.3019159\n",
      "520 0.2976005\n",
      "540 0.29351255\n",
      "560 0.28963307\n",
      "580 0.28594482\n",
      "600 0.28243276\n",
      "620 0.27908322\n",
      "640 0.27588382\n",
      "660 0.2728236\n",
      "680 0.26989242\n",
      "700 0.26708132\n",
      "720 0.264382\n",
      "740 0.26178697\n",
      "760 0.2592895\n",
      "780 0.25688323\n",
      "800 0.2545624\n",
      "820 0.25232193\n",
      "840 0.25015703\n",
      "860 0.24806309\n",
      "880 0.24603613\n",
      "900 0.24407242\n",
      "920 0.24216841\n",
      "940 0.24032082\n",
      "960 0.23852676\n",
      "980 0.2367834\n",
      "1000 0.23508817\n",
      "1020 0.23343861\n",
      "1040 0.23183255\n",
      "1060 0.23026775\n",
      "1080 0.22874248\n",
      "1100 0.22725476\n",
      "1120 0.22580285\n",
      "1140 0.22438519\n",
      "1160 0.22300017\n",
      "1180 0.22164653\n",
      "1200 0.22032285\n",
      "1220 0.21902786\n",
      "1240 0.2177604\n",
      "1260 0.21651928\n",
      "1280 0.21530358\n",
      "1300 0.21411216\n",
      "1320 0.21294421\n",
      "1340 0.21179871\n",
      "1360 0.21067484\n",
      "1380 0.20957184\n",
      "1400 0.20848894\n",
      "1420 0.20742543\n",
      "1440 0.2063806\n",
      "1460 0.2053538\n",
      "1480 0.20434447\n",
      "1500 0.20335186\n",
      "1520 0.20237558\n",
      "1540 0.201415\n",
      "1560 0.20046961\n",
      "1580 0.19953895\n",
      "1600 0.1986226\n",
      "1620 0.19771998\n",
      "1640 0.19683082\n",
      "1660 0.1959546\n",
      "1680 0.19509102\n",
      "1700 0.19423969\n",
      "1720 0.1934001\n",
      "1740 0.1925721\n",
      "1760 0.19175528\n",
      "1780 0.19094937\n",
      "1800 0.19015397\n",
      "1820 0.18936898\n",
      "1840 0.18859394\n",
      "1860 0.18782859\n",
      "1880 0.18707277\n",
      "1900 0.1863262\n",
      "1920 0.18558855\n",
      "1940 0.18485983\n",
      "1960 0.18413961\n",
      "1980 0.18342768\n",
      "2000 0.18272392\n"
     ]
    }
   ],
   "source": [
    "for step in range(2001):\n",
    "    sess.run(train, feed_dict={x:xData, y:yData})\n",
    "    if step % 20 == 0:\n",
    "        print (step, sess.run(cost,feed_dict={x:xData, y:yData}))"
   ]
  },
  {
   "cell_type": "code",
   "execution_count": 18,
   "metadata": {},
   "outputs": [
    {
     "name": "stdout",
     "output_type": "stream",
     "text": [
      "[[-7.641413 ]\n",
      " [ 0.228174 ]\n",
      " [ 1.7098463]]\n"
     ]
    }
   ],
   "source": [
    "resultPred=sess.run([yhat, pred], feed_dict={x:xData, y:yData})\n",
    "resultAccuracy=sess.run(accuracy, feed_dict={x:xData, y:yData})\n",
    "print(sess.run(w))"
   ]
  },
  {
   "cell_type": "code",
   "execution_count": 19,
   "metadata": {},
   "outputs": [
    {
     "name": "stdout",
     "output_type": "stream",
     "text": [
      "[0.00417182] [0.]\n",
      "[0.02827212] [0.]\n",
      "[0.47065726] [0.]\n",
      "[0.885815] [1.]\n",
      "[0.9244941] [1.]\n",
      "[0.796436] [1.]\n",
      "Accuracy= 1.000000\n"
     ]
    }
   ],
   "source": [
    "for i in range(6):\n",
    "    print (resultPred[0][i], resultPred[1][i])\n",
    "print (\"Accuracy= %f\" % (resultAccuracy))"
   ]
  },
  {
   "cell_type": "code",
   "execution_count": 21,
   "metadata": {},
   "outputs": [
    {
     "name": "stdout",
     "output_type": "stream",
     "text": [
      "[[0.]] [[1.]]\n"
     ]
    }
   ],
   "source": [
    "test1Res=tf.cast(sess.run(yhat, feed_dict={x:[[1,2,2]]})>0.5, dtype=tf.float32)\n",
    "test2Res=tf.cast(sess.run(yhat, feed_dict={x:[[1,5,5]]})>0.5, dtype=tf.float32)\n",
    "\n",
    "print (sess.run(test1Res),sess.run(test2Res))"
   ]
  },
  {
   "cell_type": "code",
   "execution_count": null,
   "metadata": {},
   "outputs": [],
   "source": []
  }
 ],
 "metadata": {
  "kernelspec": {
   "display_name": "Python 3",
   "language": "python",
   "name": "python3"
  },
  "language_info": {
   "codemirror_mode": {
    "name": "ipython",
    "version": 3
   },
   "file_extension": ".py",
   "mimetype": "text/x-python",
   "name": "python",
   "nbconvert_exporter": "python",
   "pygments_lexer": "ipython3",
   "version": "3.7.3"
  }
 },
 "nbformat": 4,
 "nbformat_minor": 2
}
