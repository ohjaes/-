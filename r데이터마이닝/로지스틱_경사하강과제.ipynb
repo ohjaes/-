{
  "nbformat": 4,
  "nbformat_minor": 0,
  "metadata": {
    "colab": {
      "name": "과제2.ipynb",
      "version": "0.3.2",
      "provenance": [],
      "collapsed_sections": []
    },
    "kernelspec": {
      "display_name": "Python 3",
      "language": "python",
      "name": "python3"
    }
  },
  "cells": [
    {
      "metadata": {
        "id": "5P_AIWdaX1qG",
        "colab_type": "code",
        "colab": {
          "base_uri": "https://localhost:8080/",
          "height": 179
        },
        "outputId": "db154e0f-9321-4fd2-cbea-5b9ebe6f6a9b"
      },
      "cell_type": "code",
      "source": [
        "import numpy as np\n",
        "\n",
        "def deriv(w):\n",
        "    partial_b = -np.sum(y*(1-(1/(1+np.exp(-w[1]*x - w[0])))))+np.sum((1-y)*1/(1+np.exp(-w[1]*x - w[0])))\n",
        "    partial_w = -np.sum(y*x*(1-(1/(1+np.exp(-w[1]*x - w[0]))))) + np.sum((1-y)*x*1/(1+np.exp(-w[1]*x - w[0])))\n",
        "    return np.array([partial_b, partial_w])\n",
        "\n",
        "x=np.array([1,2,3,4,5,6])\n",
        "y=np.array([0,0,0,1,1,1])\n",
        "\n",
        "w = np.array([0.5,0.5])   #w와 b를 벡터로\n",
        "\n",
        "yhat = 1/(1+np.exp(-w[1]*x-w[0]))\n",
        "\n",
        "alpha = 0.1   #람다\n",
        "for i in range(5000):\n",
        "    w = w - alpha * deriv(w)\n",
        "    yhat = 1/(1+np.exp(-w[1]*x-w[0]))\n",
        "    if i % 1000 == 0:\n",
        "        print(w[0], w[1],yhat)"
      ],
      "execution_count": 2,
      "outputs": [
        {
          "output_type": "stream",
          "text": [
            "0.2723166151148636 0.07078367055300061 [0.58494342 0.60201881 0.61884946 0.63539941 0.65163526 0.66752643]\n",
            "-11.894629814755575 3.446426187797597 [2.14239097e-04 6.68104476e-03 1.74314725e-01 8.68878046e-01\n",
            " 9.95215135e-01 9.99846848e-01]\n",
            "-15.35446677016524 4.430192914472865 [1.80152512e-05 1.51008073e-03 1.12656577e-01 9.14221531e-01\n",
            " 9.98883565e-01 9.99986686e-01]\n",
            "-17.66688433085264 5.089167554255116 [3.44798614e-06 5.59141202e-04 8.32198595e-02 9.36421235e-01\n",
            " 9.99581725e-01 9.99997421e-01]\n",
            "-19.416258290272733 5.588109009779864 [9.87439836e-07 2.63804012e-04 6.58700770e-02 9.49606130e-01\n",
            " 9.99801453e-01 9.99999257e-01]\n"
          ],
          "name": "stdout"
        }
      ]
    },
    {
      "metadata": {
        "id": "VXrP_S3UX1qN",
        "colab_type": "code",
        "colab": {}
      },
      "cell_type": "code",
      "source": [
        ""
      ],
      "execution_count": 0,
      "outputs": []
    }
  ]
}