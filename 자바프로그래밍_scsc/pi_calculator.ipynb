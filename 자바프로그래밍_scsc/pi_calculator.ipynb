{
  "nbformat": 4,
  "nbformat_minor": 0,
  "metadata": {
    "colab": {
      "name": "pi_calculator.ipynb",
      "version": "0.3.2",
      "provenance": [],
      "collapsed_sections": []
    },
    "kernelspec": {
      "name": "python3",
      "display_name": "Python 3"
    }
  },
  "cells": [
    {
      "metadata": {
        "id": "8NshU7MZ3-jZ",
        "colab_type": "text"
      },
      "cell_type": "markdown",
      "source": [
        "## for문 사용"
      ]
    },
    {
      "metadata": {
        "id": "Wb2h6yox0T4C",
        "colab_type": "code",
        "colab": {
          "base_uri": "https://localhost:8080/",
          "height": 53
        },
        "outputId": "d5d643ef-393b-4f57-d0b3-1331fde493f6"
      },
      "cell_type": "code",
      "source": [
        "n = int(input(\"횟수: \"))\n",
        "result = 0\n",
        "for i in range(n):\n",
        "  result = result + (1/(2*i + 1))*(-1)**i\n",
        "print(4*result)\n",
        "  "
      ],
      "execution_count": 7,
      "outputs": [
        {
          "output_type": "stream",
          "text": [
            "횟수: 10000\n",
            "3.1414926535900345\n"
          ],
          "name": "stdout"
        }
      ]
    },
    {
      "metadata": {
        "id": "IID6z6Tl3r_B",
        "colab_type": "text"
      },
      "cell_type": "markdown",
      "source": [
        "## while문으로 바꾸기"
      ]
    },
    {
      "metadata": {
        "id": "e_KyBAy01XXe",
        "colab_type": "code",
        "colab": {
          "base_uri": "https://localhost:8080/",
          "height": 35
        },
        "outputId": "e5936744-ab27-4431-fe1b-2a5846759a6e"
      },
      "cell_type": "code",
      "source": [
        "import numpy as np\n",
        "pi = np.pi\n",
        "result = 0\n",
        "i = 0\n",
        "while (True):\n",
        "  result = result + (1/(2*i + 1))*(-1)**i\n",
        "  if abs(pi - (4*result)) < 0.0000001:\n",
        "    break\n",
        "  else:\n",
        "    i = i + 1\n",
        "print(4*result)"
      ],
      "execution_count": 12,
      "outputs": [
        {
          "output_type": "stream",
          "text": [
            "3.1415927535897814\n"
          ],
          "name": "stdout"
        }
      ]
    },
    {
      "metadata": {
        "id": "f8URsk8k1swh",
        "colab_type": "code",
        "colab": {}
      },
      "cell_type": "code",
      "source": [
        ""
      ],
      "execution_count": 0,
      "outputs": []
    }
  ]
}