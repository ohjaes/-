{
  "nbformat": 4,
  "nbformat_minor": 0,
  "metadata": {
    "colab": {
      "name": "5장과제.ipynb",
      "version": "0.3.2",
      "provenance": [],
      "collapsed_sections": []
    },
    "kernelspec": {
      "name": "python3",
      "display_name": "Python 3"
    }
  },
  "cells": [
    {
      "metadata": {
        "id": "cIY_jzZfY318",
        "colab_type": "code",
        "colab": {
          "base_uri": "https://localhost:8080/",
          "height": 35
        },
        "outputId": "917f9c20-d76f-460d-ebaa-6e9561f95895"
      },
      "cell_type": "code",
      "source": [
        "#1\n",
        "a = False\n",
        "b = a\n",
        "type(b)"
      ],
      "execution_count": 1,
      "outputs": [
        {
          "output_type": "execute_result",
          "data": {
            "text/plain": [
              "bool"
            ]
          },
          "metadata": {
            "tags": []
          },
          "execution_count": 1
        }
      ]
    },
    {
      "metadata": {
        "id": "pE1qJPBAZK0C",
        "colab_type": "code",
        "colab": {}
      },
      "cell_type": "code",
      "source": [
        "#2 \n",
        "# 할당, =, 비교, =="
      ],
      "execution_count": 0,
      "outputs": []
    },
    {
      "metadata": {
        "id": "7JQwV6TlZk2e",
        "colab_type": "code",
        "colab": {}
      },
      "cell_type": "code",
      "source": [
        "#3\n",
        "if a>b:\n",
        "  print(\"***\")\n",
        "  print('True')\n",
        "  print('***')\n",
        "#들여쓰기가 맞지 않았다."
      ],
      "execution_count": 0,
      "outputs": []
    },
    {
      "metadata": {
        "id": "f-5niqgRZtbl",
        "colab_type": "code",
        "colab": {
          "base_uri": "https://localhost:8080/",
          "height": 53
        },
        "outputId": "c58b6363-4b15-4740-848a-9047e7cb1a93"
      },
      "cell_type": "code",
      "source": [
        "#4\n",
        "iq = int(input(\"IQ를 입력하시오: \"))\n",
        "if iq >= 148:\n",
        "  print(\"멘사에 가입할 수 있습니다\")\n",
        "else:\n",
        "  print(\"멘사에 가입할 수 없습니다\")"
      ],
      "execution_count": 6,
      "outputs": [
        {
          "output_type": "stream",
          "text": [
            "IQ를 입력하시오: 148\n",
            "멘사에 가입할 수 있습니다\n"
          ],
          "name": "stdout"
        }
      ]
    },
    {
      "metadata": {
        "id": "QFapRfmDaDYB",
        "colab_type": "code",
        "colab": {
          "base_uri": "https://localhost:8080/",
          "height": 53
        },
        "outputId": "b976df56-e917-44ef-f043-6d700a21a61a"
      },
      "cell_type": "code",
      "source": [
        "#5\n",
        "score = int(input(\"성적: \"))\n",
        "if score >= 85:\n",
        "  print(\"정규직 전환 가능\")\n",
        "else:\n",
        "  print(\"정규직 전환 불가능\")"
      ],
      "execution_count": 7,
      "outputs": [
        {
          "output_type": "stream",
          "text": [
            "성적: 85\n",
            "정규직 전환 가능\n"
          ],
          "name": "stdout"
        }
      ]
    },
    {
      "metadata": {
        "id": "FtQBuNn-a7A1",
        "colab_type": "code",
        "colab": {
          "base_uri": "https://localhost:8080/",
          "height": 53
        },
        "outputId": "1c0090a1-5927-4865-ef8b-7e1c261cedac"
      },
      "cell_type": "code",
      "source": [
        "#6\n",
        "oil = int(input(\"휘발유: \"))\n",
        "if oil < 10:\n",
        "  print(\"휘발유 공급\")\n",
        "else:\n",
        "  print(\"휘발유 충분\")\n"
      ],
      "execution_count": 9,
      "outputs": [
        {
          "output_type": "stream",
          "text": [
            "휘발유: 9\n",
            "휘발유 공급\n"
          ],
          "name": "stdout"
        }
      ]
    },
    {
      "metadata": {
        "id": "1Zi7GsI2bTnS",
        "colab_type": "code",
        "colab": {
          "base_uri": "https://localhost:8080/",
          "height": 53
        },
        "outputId": "f692e1d4-27f4-41da-c7c2-8a902d3290e6"
      },
      "cell_type": "code",
      "source": [
        "#7\n",
        "a = int(input(\"학점: \"))\n",
        "if a >= 140:\n",
        "  print(\"졸업 가능\")\n",
        "else:\n",
        "  print(\"졸업 불가능\")"
      ],
      "execution_count": 10,
      "outputs": [
        {
          "output_type": "stream",
          "text": [
            "학점: 140\n",
            "졸업 가능\n"
          ],
          "name": "stdout"
        }
      ]
    },
    {
      "metadata": {
        "id": "xwPjcybfbnvE",
        "colab_type": "code",
        "colab": {
          "base_uri": "https://localhost:8080/",
          "height": 53
        },
        "outputId": "852f3f36-f0f2-402e-def1-83f98fc62262"
      },
      "cell_type": "code",
      "source": [
        "#8\n",
        "coin = int(input(\"잔액: \"))\n",
        "if coin > 1200:\n",
        "  print(\"버스 탑승 가능\")\n",
        "else:\n",
        "  print(\"버스 탑승 불가능\")"
      ],
      "execution_count": 11,
      "outputs": [
        {
          "output_type": "stream",
          "text": [
            "잔액: 1200\n",
            "버스 탑승 불가능\n"
          ],
          "name": "stdout"
        }
      ]
    },
    {
      "metadata": {
        "id": "EeMDR1lpb71R",
        "colab_type": "code",
        "colab": {
          "base_uri": "https://localhost:8080/",
          "height": 53
        },
        "outputId": "4824d1ba-6839-468c-bac6-aa3bb9840911"
      },
      "cell_type": "code",
      "source": [
        "#9\n",
        "width = int(input(\"강의 폭: \"))\n",
        "if width > 30:\n",
        "  print(\"강을 건널 수 없다\")\n",
        "else:\n",
        "  print(\"강을 건널 수 있다\")"
      ],
      "execution_count": 12,
      "outputs": [
        {
          "output_type": "stream",
          "text": [
            "강의 폭: 35\n",
            "강을 건널 수 없다\n"
          ],
          "name": "stdout"
        }
      ]
    },
    {
      "metadata": {
        "id": "CJRNootOcVRM",
        "colab_type": "code",
        "colab": {
          "base_uri": "https://localhost:8080/",
          "height": 53
        },
        "outputId": "63428da7-af00-466f-b93a-451feed3e38a"
      },
      "cell_type": "code",
      "source": [
        "#10\n",
        "temp = int(input(\"에어컨 온도: \"))\n",
        "if temp < 23:\n",
        "  print(\"적정 온도가 아니니, 온도를 높여야 한다\")\n",
        "else:\n",
        "  print(\"적정 온도입니다\")"
      ],
      "execution_count": 13,
      "outputs": [
        {
          "output_type": "stream",
          "text": [
            "에어컨 온도: 24\n",
            "적정 온도입니다\n"
          ],
          "name": "stdout"
        }
      ]
    },
    {
      "metadata": {
        "id": "ovYwI6YMcnJN",
        "colab_type": "code",
        "colab": {
          "base_uri": "https://localhost:8080/",
          "height": 53
        },
        "outputId": "16278a79-efcd-47ee-a9a6-54001cae4ff2"
      },
      "cell_type": "code",
      "source": [
        "#11\n",
        "a = int(input(\"음량: \"))\n",
        "if a >= 7:\n",
        "  print(\"적정 음량보다 높다. 줄여야 한다.\")\n",
        "else:\n",
        "  print(\"적정 음량입니다\")"
      ],
      "execution_count": 14,
      "outputs": [
        {
          "output_type": "stream",
          "text": [
            "음량: 7\n",
            "적정 음량보다 높다. 줄여야 한다.\n"
          ],
          "name": "stdout"
        }
      ]
    },
    {
      "metadata": {
        "id": "58-xRwAEfacD",
        "colab_type": "code",
        "colab": {
          "base_uri": "https://localhost:8080/",
          "height": 71
        },
        "outputId": "f8f3961d-3c84-4fb7-ada6-cb5e272db28d"
      },
      "cell_type": "code",
      "source": [
        "#12\n",
        "all = int(input(\"전체 용량: \"))\n",
        "current = int(input(\"현재 용량: \"))\n",
        "if current < all*0.3:\n",
        "  print(\"현재 전기량이 적으니, 휘발유로 주행해야 한다.\")\n",
        "else:\n",
        "  print(\"전기로 주행 가능\")"
      ],
      "execution_count": 15,
      "outputs": [
        {
          "output_type": "stream",
          "text": [
            "전체 용량: 10\n",
            "현재 용량: 3\n",
            "전기로 주행 가능\n"
          ],
          "name": "stdout"
        }
      ]
    },
    {
      "metadata": {
        "id": "3jfodr6Qf-vY",
        "colab_type": "code",
        "colab": {
          "base_uri": "https://localhost:8080/",
          "height": 71
        },
        "outputId": "89d56600-102e-4caa-bbe6-9974f8c508aa"
      },
      "cell_type": "code",
      "source": [
        "#13\n",
        "h = int(input(\"키: \"))\n",
        "age = int(input(\"나이: \"))\n",
        "if (age<19) and (h>140):\n",
        "  print(\"탑승가능\")\n",
        "else:\n",
        "  print(\"탑승불가\")"
      ],
      "execution_count": 16,
      "outputs": [
        {
          "output_type": "stream",
          "text": [
            "키: 141\n",
            "나이: 18\n",
            "탑승가능\n"
          ],
          "name": "stdout"
        }
      ]
    },
    {
      "metadata": {
        "id": "Fy40mbTPgnhD",
        "colab_type": "code",
        "colab": {
          "base_uri": "https://localhost:8080/",
          "height": 71
        },
        "outputId": "6ab44e30-ec62-484d-8103-d666bb2f2e0c"
      },
      "cell_type": "code",
      "source": [
        "#14\n",
        "canada = int(input(\"캐나다: \"))\n",
        "china = int(input(\"중국: \"))\n",
        "if china < canada:\n",
        "  print(\"true\")\n",
        "else:\n",
        "  print('false')"
      ],
      "execution_count": 17,
      "outputs": [
        {
          "output_type": "stream",
          "text": [
            "캐나다: 99\n",
            "중국: 95\n",
            "true\n"
          ],
          "name": "stdout"
        }
      ]
    },
    {
      "metadata": {
        "id": "C7ezFKGehLYz",
        "colab_type": "code",
        "colab": {
          "base_uri": "https://localhost:8080/",
          "height": 53
        },
        "outputId": "8fabea79-b9fd-4b5a-f7bb-986e57da0421"
      },
      "cell_type": "code",
      "source": [
        "#15\n",
        "money = int(input(\"잔액: \"))\n",
        "if money > 300:\n",
        "  print(\"주식 투자가 가능합니다\")\n",
        "else:\n",
        "  print(\"주식 투자가 불가능합니다\")"
      ],
      "execution_count": 18,
      "outputs": [
        {
          "output_type": "stream",
          "text": [
            "잔액: 300\n",
            "주식 투자가 불가능합니다\n"
          ],
          "name": "stdout"
        }
      ]
    },
    {
      "metadata": {
        "id": "QcTzp3HPhbKu",
        "colab_type": "code",
        "colab": {
          "base_uri": "https://localhost:8080/",
          "height": 71
        },
        "outputId": "7a38703f-ad22-4590-c628-92d35c620a63"
      },
      "cell_type": "code",
      "source": [
        "#16\n",
        "prof_percent = int(input(\"이윤: \"))\n",
        "prof_money = int(input(\"금액: \"))\n",
        "if (prof_percent >= 10) or (prof_money >= 500):\n",
        "  print(\"주식 투자를 잘 한 것이다\")\n",
        "else:\n",
        "  print(\"주식 투자를 못 한 것이다\")"
      ],
      "execution_count": 19,
      "outputs": [
        {
          "output_type": "stream",
          "text": [
            "이윤: 5\n",
            "금액: 540\n",
            "주식 투자를 잘 한 것이다\n"
          ],
          "name": "stdout"
        }
      ]
    },
    {
      "metadata": {
        "id": "VSwA8aEvh5_m",
        "colab_type": "code",
        "colab": {
          "base_uri": "https://localhost:8080/",
          "height": 71
        },
        "outputId": "cd5b1880-0f62-4f0f-e126-66af6d5111cb"
      },
      "cell_type": "code",
      "source": [
        "#17\n",
        "major = input(\"학과: \")\n",
        "grade = int(input(\"학년: \"))\n",
        "if (major == 'computer science') and (grade == 4):\n",
        "  print(\"문자가 온다\")\n",
        "else:\n",
        "  print(\"문자가 안 온다\")"
      ],
      "execution_count": 20,
      "outputs": [
        {
          "output_type": "stream",
          "text": [
            "학과: computer science\n",
            "학년: 3\n",
            "문자가 안 온다\n"
          ],
          "name": "stdout"
        }
      ]
    },
    {
      "metadata": {
        "id": "V95oQmIniiom",
        "colab_type": "code",
        "colab": {
          "base_uri": "https://localhost:8080/",
          "height": 53
        },
        "outputId": "945afd0d-2e54-4110-989f-7841a2c70e84"
      },
      "cell_type": "code",
      "source": [
        "#18\n",
        "grade = int(input(\"학년: \"))\n",
        "if grade == 3:\n",
        "  print(33000*0.9)\n",
        "else:\n",
        "  print(33000)"
      ],
      "execution_count": 21,
      "outputs": [
        {
          "output_type": "stream",
          "text": [
            "학년: 3\n",
            "29700.0\n"
          ],
          "name": "stdout"
        }
      ]
    },
    {
      "metadata": {
        "id": "DpQY1Wt-jfyg",
        "colab_type": "code",
        "colab": {
          "base_uri": "https://localhost:8080/",
          "height": 53
        },
        "outputId": "63db58dd-e602-4920-bda9-afde3d12f029"
      },
      "cell_type": "code",
      "source": [
        "#19\n",
        "num = int(input(\"숫자: \"))\n",
        "if num % 3 == 0:\n",
        "  print(\"3의 배수이다\")\n",
        "else:\n",
        "  print(\"3의 배수가 아니다\")"
      ],
      "execution_count": 22,
      "outputs": [
        {
          "output_type": "stream",
          "text": [
            "숫자: 3\n",
            "3의 배수이다\n"
          ],
          "name": "stdout"
        }
      ]
    },
    {
      "metadata": {
        "id": "N1Xio7xGjtIk",
        "colab_type": "code",
        "colab": {
          "base_uri": "https://localhost:8080/",
          "height": 71
        },
        "outputId": "2736ef3d-22be-463a-e227-0902b52fca38"
      },
      "cell_type": "code",
      "source": [
        "#20\n",
        "number = int(input(\"숫자: \"))\n",
        "if number % 2 == 0:\n",
        "  print(\"짝수입니다\")\n",
        "else:\n",
        "  print(\"홀수입니다\")\n",
        "  print(\"프로그램 종료\")  ## <- 이 부분을 들여쓰기를 하지 말고 else와 같은 라인에 써야한다."
      ],
      "execution_count": 23,
      "outputs": [
        {
          "output_type": "stream",
          "text": [
            "숫자: 31\n",
            "홀수입니다\n",
            "프로그램 종료\n"
          ],
          "name": "stdout"
        }
      ]
    },
    {
      "metadata": {
        "id": "tYzAl5YlkMYK",
        "colab_type": "code",
        "colab": {
          "base_uri": "https://localhost:8080/",
          "height": 107
        },
        "outputId": "dc8f0f7e-b39b-4961-94d4-8303549a8180"
      },
      "cell_type": "code",
      "source": [
        "#21\n",
        "a_p = 1000\n",
        "g_p = 3000\n",
        "p_p = 2000\n",
        "o_p = 500\n",
        "a_n = int(input(\"사과 개수: \"))\n",
        "g_n = int(input(\"포도 개수: \"))\n",
        "p_n = int(input(\"배 개수: \"))\n",
        "o_n = int(input(\"귤 개수: \"))\n",
        "\n",
        "if g_n >= 3:\n",
        "  price = (a_p*a_n) + (g_p*g_n) + (p_p*p_n) + (o_p*o_n)\n",
        "  print(price * 0.9)\n",
        "else:\n",
        "  price = (a_p*a_n) + (g_p*g_n) + (p_p*p_n) + (o_p*o_n)\n",
        "  print(price)"
      ],
      "execution_count": 24,
      "outputs": [
        {
          "output_type": "stream",
          "text": [
            "사과 개수: 3\n",
            "포도 개수: 3\n",
            "배 개수: 3\n",
            "귤 개수: 3\n",
            "17550.0\n"
          ],
          "name": "stdout"
        }
      ]
    },
    {
      "metadata": {
        "id": "uM8pRZLHlwaA",
        "colab_type": "code",
        "colab": {
          "base_uri": "https://localhost:8080/",
          "height": 89
        },
        "outputId": "18a56d5d-ec0b-4ff1-8b5e-e47c83be9af5"
      },
      "cell_type": "code",
      "source": [
        "#22\n",
        "bank_name = input(\"은행 이름: \")\n",
        "way = input(\"방법: \")\n",
        "way = input(\"돈_수표: \")\n",
        "if (bank_name == '파이') and ((way=='card') or (way == 'bankbook')) and (check_money == 'money'):\n",
        "  print(\"입금 할 수 있다\")\n",
        "else:\n",
        "  print(\"입금 못 합니다.\")"
      ],
      "execution_count": 25,
      "outputs": [
        {
          "output_type": "stream",
          "text": [
            "은행 이름: 파이\n",
            "방법: 카드\n",
            "돈_수표: 수표\n",
            "입금 못 합니다.\n"
          ],
          "name": "stdout"
        }
      ]
    },
    {
      "metadata": {
        "id": "HivViqvYnH3w",
        "colab_type": "code",
        "colab": {
          "base_uri": "https://localhost:8080/",
          "height": 89
        },
        "outputId": "9b17bf6a-c7ad-497b-d1cc-548182f600cb"
      },
      "cell_type": "code",
      "source": [
        "#23\n",
        "one = int(input(\"1과목: \"))\n",
        "two = int(input(\"2과목: \"))\n",
        "three = int(input(\"3과목: \"))\n",
        "if ((one >= 60) and (two >= 60) and (three >= 60)) or ((one+two+three)/3 >= 70):\n",
        "  print(\"자격증을 딸 수 있다\")\n",
        "else:\n",
        "  print(\"자격증을 딸 수 없다\")\n"
      ],
      "execution_count": 26,
      "outputs": [
        {
          "output_type": "stream",
          "text": [
            "1과목: 90\n",
            "2과목: 70\n",
            "3과목: 50\n",
            "자격증을 딸 수 있다\n"
          ],
          "name": "stdout"
        }
      ]
    },
    {
      "metadata": {
        "id": "0xuyzFloodwT",
        "colab_type": "code",
        "colab": {
          "base_uri": "https://localhost:8080/",
          "height": 71
        },
        "outputId": "6ed1ea9a-3740-4714-d82f-f63c45f75432"
      },
      "cell_type": "code",
      "source": [
        "#24\n",
        "num_semester = int(input(\"이수학기: \"))\n",
        "num_object = int(input(\"이수학점: \"))\n",
        "if (num_semester < 8) and (num_object >= 140):\n",
        "  print(\"조기졸업이 가능하다.\")\n",
        "else:\n",
        "  print(\"조기졸업이 불가능하다.\")"
      ],
      "execution_count": 28,
      "outputs": [
        {
          "output_type": "stream",
          "text": [
            "이수학기: 6\n",
            "이수학점: 150\n",
            "조기졸업이 가능하다.\n"
          ],
          "name": "stdout"
        }
      ]
    },
    {
      "metadata": {
        "id": "lne23ax9pIjw",
        "colab_type": "code",
        "colab": {}
      },
      "cell_type": "code",
      "source": [
        ""
      ],
      "execution_count": 0,
      "outputs": []
    }
  ]
}