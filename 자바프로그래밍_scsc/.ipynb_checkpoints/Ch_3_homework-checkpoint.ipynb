{
 "cells": [
  {
   "cell_type": "markdown",
   "metadata": {
    "colab_type": "text",
    "id": "yyO1Ko1Clo4h"
   },
   "source": [
    "#### 이 Chapter는 여러분 스스로 만들어 보세요~\n",
    "* 스스로 만들면서 파이썬에 대한 기본적 이해와 주피터 노트북을 활용하는 방법에 대해 스스로 터득해봅시다.\n",
    "* 주피터 노트북에서 많이 사용하는 키\n",
    "  * SHIFT + ENTER 키: 현재 셀을 실행\n",
    "  * CTRL + M, B 키: 주피터 노트북에 셀을 below에 삽입\n",
    "  * CTRL + M, A 키: 주피터 노트북에 셀을 above에 삽입\n",
    "  * CTRL + M, D 키: 주피터 노트북에 현재 셀을 delete\n",
    "  * CTRL + M, M: 현재 셀을 마크다운 셀로 변경(현재 셀이 마크다운 셀임)\n",
    "  * 나머지는 차차 해가면서 ..."
   ]
  },
  {
   "cell_type": "markdown",
   "metadata": {
    "colab_type": "text",
    "id": "AP9dnlutpxve"
   },
   "source": [
    "# <font color='blue'><div style=\"text-align: center\">Ch 3. 연산자와 변수</font> \n",
    "### 지은이: 인하대학교 소프트웨어융합공학 연계전공 홍길동\n",
    "\n",
    "#### 연산자 실습"
   ]
  },
  {
   "cell_type": "code",
   "execution_count": 0,
   "metadata": {
    "colab": {
     "base_uri": "https://localhost:8080/",
     "height": 36
    },
    "colab_type": "code",
    "id": "Zpa4TCEQr_Av",
    "outputId": "c01b2ea0-2536-40b3-aade-b622f7ef94cc"
   },
   "outputs": [
    {
     "data": {
      "text/plain": [
       "87"
      ]
     },
     "execution_count": 1,
     "metadata": {
      "tags": []
     },
     "output_type": "execute_result"
    }
   ],
   "source": [
    "31 + 56"
   ]
  },
  {
   "cell_type": "code",
   "execution_count": 0,
   "metadata": {
    "colab": {
     "base_uri": "https://localhost:8080/",
     "height": 36
    },
    "colab_type": "code",
    "id": "bsd4S4CesAhf",
    "outputId": "3e413e87-2ec2-4c8a-dbe9-ac5e26ac0b1e"
   },
   "outputs": [
    {
     "data": {
      "text/plain": [
       "457"
      ]
     },
     "execution_count": 2,
     "metadata": {
      "tags": []
     },
     "output_type": "execute_result"
    }
   ],
   "source": [
    "511 - 54"
   ]
  },
  {
   "cell_type": "code",
   "execution_count": 0,
   "metadata": {
    "colab": {
     "base_uri": "https://localhost:8080/",
     "height": 36
    },
    "colab_type": "code",
    "id": "R39TE6S3sD4b",
    "outputId": "7d27fc4b-a8c3-4795-fe1b-2572c29ce0aa"
   },
   "outputs": [
    {
     "data": {
      "text/plain": [
       "75"
      ]
     },
     "execution_count": 3,
     "metadata": {
      "tags": []
     },
     "output_type": "execute_result"
    }
   ],
   "source": [
    "5 * 15"
   ]
  },
  {
   "cell_type": "code",
   "execution_count": 0,
   "metadata": {
    "colab": {
     "base_uri": "https://localhost:8080/",
     "height": 36
    },
    "colab_type": "code",
    "id": "dXNNKj5lsFIz",
    "outputId": "0981a7a1-3506-4ec8-a671-a0dd675a7559"
   },
   "outputs": [
    {
     "data": {
      "text/plain": [
       "24.0"
      ]
     },
     "execution_count": 4,
     "metadata": {
      "tags": []
     },
     "output_type": "execute_result"
    }
   ],
   "source": [
    "96 / 4 # 24 가 아니고 24.0 이 나온다~ 왜 일까?"
   ]
  },
  {
   "cell_type": "code",
   "execution_count": 0,
   "metadata": {
    "colab": {
     "base_uri": "https://localhost:8080/",
     "height": 36
    },
    "colab_type": "code",
    "id": "5Vvo_p8vsHzq",
    "outputId": "4f54aee0-8c0d-4865-b60d-fa711d0cab4d"
   },
   "outputs": [
    {
     "data": {
      "text/plain": [
       "24"
      ]
     },
     "execution_count": 6,
     "metadata": {
      "tags": []
     },
     "output_type": "execute_result"
    }
   ],
   "source": [
    "96 // 4 # 아하~ // 를 쓰면 되는구나~"
   ]
  },
  {
   "cell_type": "code",
   "execution_count": 0,
   "metadata": {
    "colab": {
     "base_uri": "https://localhost:8080/",
     "height": 36
    },
    "colab_type": "code",
    "id": "_28QKw2TsWL1",
    "outputId": "2ad557d3-91cf-4698-abed-b18af3f8fd77"
   },
   "outputs": [
    {
     "data": {
      "text/plain": [
       "7"
      ]
     },
     "execution_count": 7,
     "metadata": {
      "tags": []
     },
     "output_type": "execute_result"
    }
   ],
   "source": [
    "31 // 4 # 나눈 결과의 몫만 정수로 리턴한다."
   ]
  },
  {
   "cell_type": "code",
   "execution_count": 0,
   "metadata": {
    "colab": {
     "base_uri": "https://localhost:8080/",
     "height": 36
    },
    "colab_type": "code",
    "id": "eUzHJqjmsgaO",
    "outputId": "f70894c0-82ac-449e-f518-1d265c0867ff"
   },
   "outputs": [
    {
     "data": {
      "text/plain": [
       "0"
      ]
     },
     "execution_count": 8,
     "metadata": {
      "tags": []
     },
     "output_type": "execute_result"
    }
   ],
   "source": [
    "26 % 2 # %는 나머지 함수다"
   ]
  },
  {
   "cell_type": "code",
   "execution_count": 0,
   "metadata": {
    "colab": {
     "base_uri": "https://localhost:8080/",
     "height": 36
    },
    "colab_type": "code",
    "id": "mjKqydhesqFf",
    "outputId": "785282d4-db55-4ecc-8ce7-25fc847dd6f1"
   },
   "outputs": [
    {
     "data": {
      "text/plain": [
       "3"
      ]
     },
     "execution_count": 9,
     "metadata": {
      "tags": []
     },
     "output_type": "execute_result"
    }
   ],
   "source": [
    "31 % 4"
   ]
  },
  {
   "cell_type": "markdown",
   "metadata": {
    "colab_type": "text",
    "id": "0_R285Y5sxrG"
   },
   "source": [
    "<font color='red'> <H.W # 1>  이런 방식으로 이 Chapter를 스스로 공부하고 정리해서 제출하세요~</font>\n"
   ]
  }
 ],
 "metadata": {
  "colab": {
   "collapsed_sections": [],
   "name": "Ch 3_연산자_변수.ipynb의 사본",
   "provenance": [],
   "version": "0.3.2"
  },
  "kernelspec": {
   "display_name": "Python 3",
   "language": "python",
   "name": "python3"
  },
  "language_info": {
   "codemirror_mode": {
    "name": "ipython",
    "version": 3
   },
   "file_extension": ".py",
   "mimetype": "text/x-python",
   "name": "python",
   "nbconvert_exporter": "python",
   "pygments_lexer": "ipython3",
   "version": "3.7.0"
  }
 },
 "nbformat": 4,
 "nbformat_minor": 1
}
