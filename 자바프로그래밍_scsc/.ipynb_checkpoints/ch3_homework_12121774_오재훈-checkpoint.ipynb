{
 "cells": [
  {
   "cell_type": "markdown",
   "metadata": {
    "colab_type": "text",
    "id": "yyO1Ko1Clo4h"
   },
   "source": [
    "#### 이 Chapter는 여러분 스스로 만들어 보세요~\n",
    "* 스스로 만들면서 파이썬에 대한 기본적 이해와 주피터 노트북을 활용하는 방법에 대해 스스로 터득해봅시다.\n",
    "* 주피터 노트북에서 많이 사용하는 키\n",
    "  * SHIFT + ENTER 키: 현재 셀을 실행\n",
    "  * CTRL + M, B 키: 주피터 노트북에 셀을 below에 삽입\n",
    "  * CTRL + M, A 키: 주피터 노트북에 셀을 above에 삽입\n",
    "  * CTRL + M, D 키: 주피터 노트북에 현재 셀을 delete\n",
    "  * CTRL + M, M: 현재 셀을 마크다운 셀로 변경(현재 셀이 마크다운 셀임)\n",
    "  * 나머지는 차차 해가면서 ..."
   ]
  },
  {
   "cell_type": "markdown",
   "metadata": {
    "colab_type": "text",
    "id": "AP9dnlutpxve"
   },
   "source": [
    "# <font color='blue'><div style=\"text-align: center\">Ch 3. 연산자와 변수</font> \n",
    "### 지은이: 인하대학교 소프트웨어융합공학 연계전공 홍길동\n",
    "\n",
    "#### 연산자 실습"
   ]
  },
  {
   "cell_type": "code",
   "execution_count": 2,
   "metadata": {
    "colab": {
     "base_uri": "https://localhost:8080/",
     "height": 35
    },
    "colab_type": "code",
    "id": "Zpa4TCEQr_Av",
    "outputId": "ba179669-99ef-429f-98c0-8674fbb2a274"
   },
   "outputs": [
    {
     "data": {
      "text/plain": [
       "87"
      ]
     },
     "execution_count": 2,
     "metadata": {},
     "output_type": "execute_result"
    }
   ],
   "source": [
    "31 + 56"
   ]
  },
  {
   "cell_type": "code",
   "execution_count": 3,
   "metadata": {
    "colab": {
     "base_uri": "https://localhost:8080/",
     "height": 35
    },
    "colab_type": "code",
    "id": "bsd4S4CesAhf",
    "outputId": "56708b88-edc3-429d-f8d9-86adfed1a6bd"
   },
   "outputs": [
    {
     "data": {
      "text/plain": [
       "457"
      ]
     },
     "execution_count": 3,
     "metadata": {},
     "output_type": "execute_result"
    }
   ],
   "source": [
    "511 - 54"
   ]
  },
  {
   "cell_type": "code",
   "execution_count": 3,
   "metadata": {
    "colab": {
     "base_uri": "https://localhost:8080/",
     "height": 35
    },
    "colab_type": "code",
    "id": "R39TE6S3sD4b",
    "outputId": "2230e6b6-c0ab-43d3-c0a7-ca4d5af14b5d"
   },
   "outputs": [
    {
     "data": {
      "text/plain": [
       "75"
      ]
     },
     "execution_count": 3,
     "metadata": {
      "tags": []
     },
     "output_type": "execute_result"
    }
   ],
   "source": [
    "5 * 15"
   ]
  },
  {
   "cell_type": "code",
   "execution_count": 4,
   "metadata": {
    "colab": {
     "base_uri": "https://localhost:8080/",
     "height": 35
    },
    "colab_type": "code",
    "id": "dXNNKj5lsFIz",
    "outputId": "73b3cc85-311e-430c-d797-143c930fe64a"
   },
   "outputs": [
    {
     "data": {
      "text/plain": [
       "24.0"
      ]
     },
     "execution_count": 4,
     "metadata": {
      "tags": []
     },
     "output_type": "execute_result"
    }
   ],
   "source": [
    "96 / 4 # 24 가 아니고 24.0 이 나온다~ 왜 일까?"
   ]
  },
  {
   "cell_type": "code",
   "execution_count": 5,
   "metadata": {
    "colab": {
     "base_uri": "https://localhost:8080/",
     "height": 35
    },
    "colab_type": "code",
    "id": "5Vvo_p8vsHzq",
    "outputId": "aa98772f-27d3-4d04-910a-eb8b36263369"
   },
   "outputs": [
    {
     "data": {
      "text/plain": [
       "24"
      ]
     },
     "execution_count": 5,
     "metadata": {
      "tags": []
     },
     "output_type": "execute_result"
    }
   ],
   "source": [
    "96 // 4 # 아하~ // 를 쓰면 되는구나~"
   ]
  },
  {
   "cell_type": "code",
   "execution_count": 6,
   "metadata": {
    "colab": {
     "base_uri": "https://localhost:8080/",
     "height": 35
    },
    "colab_type": "code",
    "id": "_28QKw2TsWL1",
    "outputId": "1cbb499e-cb8e-4ce8-89e7-ce9b6a19c248"
   },
   "outputs": [
    {
     "data": {
      "text/plain": [
       "7"
      ]
     },
     "execution_count": 6,
     "metadata": {
      "tags": []
     },
     "output_type": "execute_result"
    }
   ],
   "source": [
    "31 // 4 # 나눈 결과의 몫만 정수로 리턴한다."
   ]
  },
  {
   "cell_type": "code",
   "execution_count": 7,
   "metadata": {
    "colab": {
     "base_uri": "https://localhost:8080/",
     "height": 35
    },
    "colab_type": "code",
    "id": "eUzHJqjmsgaO",
    "outputId": "5e85f426-170c-4702-b5ff-6095ba3901bb"
   },
   "outputs": [
    {
     "data": {
      "text/plain": [
       "0"
      ]
     },
     "execution_count": 7,
     "metadata": {
      "tags": []
     },
     "output_type": "execute_result"
    }
   ],
   "source": [
    "26 % 2 # %는 나머지 함수다"
   ]
  },
  {
   "cell_type": "code",
   "execution_count": 8,
   "metadata": {
    "colab": {
     "base_uri": "https://localhost:8080/",
     "height": 35
    },
    "colab_type": "code",
    "id": "mjKqydhesqFf",
    "outputId": "17e58afe-88e6-4862-b915-8466fed37a7e"
   },
   "outputs": [
    {
     "data": {
      "text/plain": [
       "3"
      ]
     },
     "execution_count": 8,
     "metadata": {
      "tags": []
     },
     "output_type": "execute_result"
    }
   ],
   "source": [
    "31 % 4"
   ]
  },
  {
   "cell_type": "markdown",
   "metadata": {
    "colab_type": "text",
    "id": "0_R285Y5sxrG"
   },
   "source": [
    "<font color='red'> <H.W # 1>  이런 방식으로 이 Chapter를 스스로 공부하고 정리해서 제출하세요~</font>\n"
   ]
  },
  {
   "cell_type": "markdown",
   "metadata": {},
   "source": [
    "#학번: 12121774\n",
    "#이름: 오재훈\n",
    "\n",
    "##과제1"
   ]
  },
  {
   "cell_type": "markdown",
   "metadata": {
    "colab_type": "text",
    "id": "nsm8M091VApE"
   },
   "source": [
    "더하기 연산자 사용하기"
   ]
  },
  {
   "cell_type": "code",
   "execution_count": 10,
   "metadata": {
    "colab": {
     "base_uri": "https://localhost:8080/",
     "height": 35
    },
    "colab_type": "code",
    "id": "q5wU8RGRUvO_",
    "outputId": "006c20db-226a-4032-a6ee-24533a278607"
   },
   "outputs": [
    {
     "data": {
      "text/plain": [
       "82"
      ]
     },
     "execution_count": 10,
     "metadata": {
      "tags": []
     },
     "output_type": "execute_result"
    }
   ],
   "source": [
    "35 + 47"
   ]
  },
  {
   "cell_type": "markdown",
   "metadata": {
    "colab_type": "text",
    "id": "wX9Au_R3VE7p"
   },
   "source": [
    "빼기 연산자 사용하기"
   ]
  },
  {
   "cell_type": "code",
   "execution_count": 11,
   "metadata": {
    "colab": {
     "base_uri": "https://localhost:8080/",
     "height": 35
    },
    "colab_type": "code",
    "id": "RCM0VlBdVfDg",
    "outputId": "b018f49d-523f-4e01-c13d-d8890dffb4ab"
   },
   "outputs": [
    {
     "data": {
      "text/plain": [
       "25"
      ]
     },
     "execution_count": 11,
     "metadata": {
      "tags": []
     },
     "output_type": "execute_result"
    }
   ],
   "source": [
    "50 - 25"
   ]
  },
  {
   "cell_type": "markdown",
   "metadata": {
    "colab": {},
    "colab_type": "code",
    "id": "SQYpnGL2VR_-"
   },
   "source": [
    "곱하기 연산자 사용하기"
   ]
  },
  {
   "cell_type": "code",
   "execution_count": 12,
   "metadata": {
    "colab": {
     "base_uri": "https://localhost:8080/",
     "height": 35
    },
    "colab_type": "code",
    "id": "DCgp6c_kVhSV",
    "outputId": "bca925c8-4ee3-4023-f1ce-bc5ba5adfbc6"
   },
   "outputs": [
    {
     "data": {
      "text/plain": [
       "225"
      ]
     },
     "execution_count": 12,
     "metadata": {
      "tags": []
     },
     "output_type": "execute_result"
    }
   ],
   "source": [
    "15 * 15"
   ]
  },
  {
   "cell_type": "markdown",
   "metadata": {
    "colab": {},
    "colab_type": "code",
    "id": "kzbOfm31VU0X"
   },
   "source": [
    "나눗셈 연산자 사용하기"
   ]
  },
  {
   "cell_type": "code",
   "execution_count": 18,
   "metadata": {
    "colab": {
     "base_uri": "https://localhost:8080/",
     "height": 35
    },
    "colab_type": "code",
    "id": "QByhEykHVkHZ",
    "outputId": "afded0c8-9776-44fa-8db8-b2f57207b6c4"
   },
   "outputs": [
    {
     "data": {
      "text/plain": [
       "5.0"
      ]
     },
     "execution_count": 18,
     "metadata": {
      "tags": []
     },
     "output_type": "execute_result"
    }
   ],
   "source": [
    "15 / 3  #흔히 평소에 하는 나눗셈 결과와 같다"
   ]
  },
  {
   "cell_type": "code",
   "execution_count": 19,
   "metadata": {
    "colab": {
     "base_uri": "https://localhost:8080/",
     "height": 35
    },
    "colab_type": "code",
    "id": "mwlKv0c0Vmik",
    "outputId": "04f1c408-418f-4f66-810c-33e19bb5bbe9"
   },
   "outputs": [
    {
     "data": {
      "text/plain": [
       "3.75"
      ]
     },
     "execution_count": 19,
     "metadata": {
      "tags": []
     },
     "output_type": "execute_result"
    }
   ],
   "source": [
    "15 / 4  # 흔히 평소에 하는 나눗셈 결과와 같다"
   ]
  },
  {
   "cell_type": "code",
   "execution_count": 20,
   "metadata": {
    "colab": {
     "base_uri": "https://localhost:8080/",
     "height": 35
    },
    "colab_type": "code",
    "id": "Pgy0HmxeVmuC",
    "outputId": "7452bf1e-103d-42ea-ba66-ec6a63cd0903"
   },
   "outputs": [
    {
     "data": {
      "text/plain": [
       "3"
      ]
     },
     "execution_count": 20,
     "metadata": {
      "tags": []
     },
     "output_type": "execute_result"
    }
   ],
   "source": [
    "15 // 4  # 나눗셈 결과에서 몫의 값만 가져오는 연산이다"
   ]
  },
  {
   "cell_type": "code",
   "execution_count": 16,
   "metadata": {
    "colab": {
     "base_uri": "https://localhost:8080/",
     "height": 35
    },
    "colab_type": "code",
    "id": "qVazDHGqVm5t",
    "outputId": "dba104cb-cd5a-4730-9ba9-d7185a9ea33d"
   },
   "outputs": [
    {
     "data": {
      "text/plain": [
       "3"
      ]
     },
     "execution_count": 16,
     "metadata": {
      "tags": []
     },
     "output_type": "execute_result"
    }
   ],
   "source": [
    "15 % 4  # 나눗셈 결과에서 나머지 값만 가져오는 연산이다"
   ]
  },
  {
   "cell_type": "markdown",
   "metadata": {
    "colab": {},
    "colab_type": "code",
    "id": "AWzdhK32VWfQ"
   },
   "source": [
    "변수에 저장하기"
   ]
  },
  {
   "cell_type": "code",
   "execution_count": 21,
   "metadata": {
    "colab": {
     "base_uri": "https://localhost:8080/",
     "height": 35
    },
    "colab_type": "code",
    "id": "g4bTULLBWJT1",
    "outputId": "4331e0cc-6106-449b-8c63-9152035635f8"
   },
   "outputs": [
    {
     "data": {
      "text/plain": [
       "3"
      ]
     },
     "execution_count": 21,
     "metadata": {
      "tags": []
     },
     "output_type": "execute_result"
    }
   ],
   "source": [
    "a = 3   # a라는 변수에 3을 할당한다\n",
    "a       # a라는 변수에 3이 들어있는지 확인한다."
   ]
  }
 ],
 "metadata": {
  "colab": {
   "collapsed_sections": [],
   "name": "Ch 3_연산자_변수.ipynb의 사본",
   "provenance": [],
   "version": "0.3.2"
  },
  "kernelspec": {
   "display_name": "Python 3",
   "language": "python",
   "name": "python3"
  },
  "language_info": {
   "codemirror_mode": {
    "name": "ipython",
    "version": 3
   },
   "file_extension": ".py",
   "mimetype": "text/x-python",
   "name": "python",
   "nbconvert_exporter": "python",
   "pygments_lexer": "ipython3",
   "version": "3.7.0"
  }
 },
 "nbformat": 4,
 "nbformat_minor": 1
}
