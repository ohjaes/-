{
 "cells": [
  {
   "cell_type": "markdown",
   "metadata": {
    "colab_type": "text",
    "id": "frGaxI9l9kUR"
   },
   "source": [
    "# <font color='blue'><div style=\"text-align: center\">Ch 4. 자료의 입력과 출력</font> "
   ]
  },
  {
   "cell_type": "code",
   "execution_count": 0,
   "metadata": {
    "colab": {
     "base_uri": "https://localhost:8080/",
     "height": 34
    },
    "colab_type": "code",
    "id": "PHUJhbzA9v6g",
    "outputId": "895dbd81-c9ec-47ec-828a-b9a804c26090"
   },
   "outputs": [
    {
     "name": "stdout",
     "output_type": "stream",
     "text": [
      "1\n"
     ]
    }
   ],
   "source": [
    "x = 1     # integer\n",
    "print(x)\n"
   ]
  },
  {
   "cell_type": "code",
   "execution_count": 0,
   "metadata": {
    "colab": {
     "base_uri": "https://localhost:8080/",
     "height": 34
    },
    "colab_type": "code",
    "id": "mscZKNHm9x2v",
    "outputId": "6afbe7ac-84d7-439b-a0c2-b2c97d13b7f8"
   },
   "outputs": [
    {
     "name": "stdout",
     "output_type": "stream",
     "text": [
      "1.0\n"
     ]
    }
   ],
   "source": [
    "y = 1.0  # float\n",
    "print(y)"
   ]
  },
  {
   "cell_type": "code",
   "execution_count": 0,
   "metadata": {
    "colab": {
     "base_uri": "https://localhost:8080/",
     "height": 34
    },
    "colab_type": "code",
    "id": "DSldjsKK942o",
    "outputId": "863bf6f1-7038-48e6-d2b9-ac07f7ec7307"
   },
   "outputs": [
    {
     "data": {
      "text/plain": [
       "(int, float)"
      ]
     },
     "execution_count": 6,
     "metadata": {
      "tags": []
     },
     "output_type": "execute_result"
    }
   ],
   "source": [
    "type(x), type(y)"
   ]
  },
  {
   "cell_type": "code",
   "execution_count": 0,
   "metadata": {
    "colab": {
     "base_uri": "https://localhost:8080/",
     "height": 34
    },
    "colab_type": "code",
    "id": "2KpeuPyz9_kk",
    "outputId": "65e0d75d-8427-4ebf-e277-f2d7e0d66569"
   },
   "outputs": [
    {
     "name": "stdout",
     "output_type": "stream",
     "text": [
      "I am a boy\n"
     ]
    }
   ],
   "source": [
    "z = \"I am a boy\"   # string\n",
    "print(z)"
   ]
  },
  {
   "cell_type": "code",
   "execution_count": 0,
   "metadata": {
    "colab": {
     "base_uri": "https://localhost:8080/",
     "height": 34
    },
    "colab_type": "code",
    "id": "ur-egcWC-Pjz",
    "outputId": "9cc1fc94-a847-4994-f13b-578c601e70fc"
   },
   "outputs": [
    {
     "name": "stdout",
     "output_type": "stream",
     "text": [
      "He is smart\n"
     ]
    }
   ],
   "source": [
    "# \"\": double quote, '': single quote, \"''\": \"He's smart\"\n",
    "\n",
    "z = 'He is smart'\n",
    "print(z)"
   ]
  },
  {
   "cell_type": "code",
   "execution_count": 0,
   "metadata": {
    "colab": {
     "base_uri": "https://localhost:8080/",
     "height": 34
    },
    "colab_type": "code",
    "id": "f-tRslKQ--3h",
    "outputId": "5e8f257f-ff9d-41f8-bbce-c3b9cadab21c"
   },
   "outputs": [
    {
     "name": "stdout",
     "output_type": "stream",
     "text": [
      "He's smart\n"
     ]
    }
   ],
   "source": [
    "z = \"He's smart\"\n",
    "print(z)"
   ]
  },
  {
   "cell_type": "code",
   "execution_count": 0,
   "metadata": {
    "colab": {
     "base_uri": "https://localhost:8080/",
     "height": 34
    },
    "colab_type": "code",
    "id": "iD-L6dPQ_Fqy",
    "outputId": "d8d9547c-7317-442d-a6fd-2df22a01f8e3"
   },
   "outputs": [
    {
     "name": "stdout",
     "output_type": "stream",
     "text": [
      "**********python program**********\n"
     ]
    }
   ],
   "source": [
    "star = \"*\"\n",
    "print(star*10 + \"python program\" + star*10)"
   ]
  },
  {
   "cell_type": "code",
   "execution_count": 0,
   "metadata": {
    "colab": {
     "base_uri": "https://localhost:8080/",
     "height": 34
    },
    "colab_type": "code",
    "id": "h9gg0i-Z_dWC",
    "outputId": "b18c7d09-5701-4fcc-b700-32b872c72ead"
   },
   "outputs": [
    {
     "name": "stdout",
     "output_type": "stream",
     "text": [
      "Hello My name is Jaehoon. And I live in Incheon\n"
     ]
    }
   ],
   "source": [
    "# Hello My name is Gildong. And I live in Incheon. 과 같은 형식으로 프린트 되도록 name, location 변수를 만들고 프린트 해보자.\n",
    "name = \"Jaehoon\"\n",
    "location = \"Incheon\"\n",
    "print(\"Hello My name is \"+name+\". And I live in \"+location)"
   ]
  },
  {
   "cell_type": "code",
   "execution_count": 0,
   "metadata": {
    "colab": {
     "base_uri": "https://localhost:8080/",
     "height": 34
    },
    "colab_type": "code",
    "id": "9QE81KhxQ3eB",
    "outputId": "64c0e600-a83c-493f-d788-252686513805"
   },
   "outputs": [
    {
     "name": "stdout",
     "output_type": "stream",
     "text": [
      "Hello My name\n"
     ]
    }
   ],
   "source": [
    "print('Hello My name')"
   ]
  },
  {
   "cell_type": "code",
   "execution_count": 0,
   "metadata": {
    "colab": {
     "base_uri": "https://localhost:8080/",
     "height": 70
    },
    "colab_type": "code",
    "id": "aukT8fyfRTaj",
    "outputId": "37c1226a-ea6b-415b-d73d-10efe2f920ee"
   },
   "outputs": [
    {
     "name": "stdout",
     "output_type": "stream",
     "text": [
      "yellow apple\n",
      "red banana\n",
      "yellow apple과 red banana\n"
     ]
    }
   ],
   "source": [
    "a = 'red apple'\n",
    "b = 'yellow banana'\n",
    "c = a[0:3] + ' ' + b[7:]  #red와 banana를 가져오기 위해서\n",
    "d=b[0:6]+' ' +a[4:]       #yellow와 apple를 가져오기 위해서\n",
    "print(d)\n",
    "print(c)\n",
    "print(d+'과 '+ c)"
   ]
  },
  {
   "cell_type": "code",
   "execution_count": 0,
   "metadata": {
    "colab": {
     "base_uri": "https://localhost:8080/",
     "height": 52
    },
    "colab_type": "code",
    "id": "IhYYpfizV-jQ",
    "outputId": "b9540e65-0553-4dcc-bc4f-c1ab39ed786a"
   },
   "outputs": [
    {
     "name": "stdout",
     "output_type": "stream",
     "text": [
      "김승환\n",
      "my name is 김승환\n"
     ]
    }
   ],
   "source": [
    "name = input()\n",
    "print(\"my name is \"+name)"
   ]
  },
  {
   "cell_type": "code",
   "execution_count": 0,
   "metadata": {
    "colab": {
     "base_uri": "https://localhost:8080/",
     "height": 34
    },
    "colab_type": "code",
    "id": "6Sb912qUW6gb",
    "outputId": "62bc8449-1a08-4409-d111-52a3be56d0b1"
   },
   "outputs": [
    {
     "data": {
      "text/plain": [
       "1"
      ]
     },
     "execution_count": 30,
     "metadata": {
      "tags": []
     },
     "output_type": "execute_result"
    }
   ],
   "source": [
    "x = 1.6\n",
    "x = int(x)   #형변환\n",
    "x"
   ]
  },
  {
   "cell_type": "code",
   "execution_count": 0,
   "metadata": {
    "colab": {
     "base_uri": "https://localhost:8080/",
     "height": 34
    },
    "colab_type": "code",
    "id": "RgLARyL2bPnZ",
    "outputId": "f6e1e000-59a5-44e6-f8fd-21bc8859f544"
   },
   "outputs": [
    {
     "data": {
      "text/plain": [
       "9.0"
      ]
     },
     "execution_count": 33,
     "metadata": {
      "tags": []
     },
     "output_type": "execute_result"
    }
   ],
   "source": [
    "y = 9\n",
    "y = float(y)    #형변환\n",
    "y"
   ]
  },
  {
   "cell_type": "code",
   "execution_count": 0,
   "metadata": {
    "colab": {
     "base_uri": "https://localhost:8080/",
     "height": 34
    },
    "colab_type": "code",
    "id": "LpeBxjq3bYrG",
    "outputId": "a761dff0-9f9c-4831-db5d-a1f6d2617f4b"
   },
   "outputs": [
    {
     "name": "stdout",
     "output_type": "stream",
     "text": [
      "12\n"
     ]
    }
   ],
   "source": [
    "z1 = \"1\"\n",
    "z2 = \"2\"\n",
    "print(z1+z2)   #문자끼리 더하는 것이라 옆에 쓴다"
   ]
  },
  {
   "cell_type": "code",
   "execution_count": 0,
   "metadata": {
    "colab": {
     "base_uri": "https://localhost:8080/",
     "height": 105
    },
    "colab_type": "code",
    "id": "4bX2vbi4b1Fp",
    "outputId": "4b75f7da-9e36-4886-974a-7dad4fffc958"
   },
   "outputs": [
    {
     "name": "stdout",
     "output_type": "stream",
     "text": [
      "연필 = 1000원\n",
      "펜 = 2000원\n",
      "연필은 몇 개를 구입하시겠습니까? 10\n",
      "펜은 몇 개를 구입하시겠습니까? 010\n",
      "총 가격은 30000 원 입니다\n"
     ]
    }
   ],
   "source": [
    "#입력 받고 가격을 구하는 프로그램\n",
    "print(\"연필 = 1000원\")\n",
    "print(\"펜 = 2000원\")\n",
    "pencil = int(input(\"연필은 몇 개를 구입하시겠습니까? \"))\n",
    "pen = int(input(\"펜은 몇 개를 구입하시겠습니까? \"))\n",
    "sum = (1000*pencil) + (2000*pen)\n",
    "print(\"총 가격은 %d 원 입니다\" %sum)"
   ]
  },
  {
   "cell_type": "code",
   "execution_count": 0,
   "metadata": {
    "colab": {
     "base_uri": "https://localhost:8080/",
     "height": 34
    },
    "colab_type": "code",
    "id": "yB-SVGrGhsSv",
    "outputId": "a88ea0d8-9a1c-4ff2-ac0f-80fc90342b47"
   },
   "outputs": [
    {
     "data": {
      "text/plain": [
       "2"
      ]
     },
     "execution_count": 41,
     "metadata": {
      "tags": []
     },
     "output_type": "execute_result"
    }
   ],
   "source": [
    "#boolean을 더하는 것 True는 1, False는 0\n",
    "True + False + True\n"
   ]
  },
  {
   "cell_type": "code",
   "execution_count": 0,
   "metadata": {
    "colab": {
     "base_uri": "https://localhost:8080/",
     "height": 52
    },
    "colab_type": "code",
    "id": "BfKhrWE-hz0W",
    "outputId": "7be942b1-bc38-4eb1-aab8-52dc43e3a6f7"
   },
   "outputs": [
    {
     "name": "stdout",
     "output_type": "stream",
     "text": [
      "enter a number: 10\n"
     ]
    },
    {
     "data": {
      "text/plain": [
       "True"
      ]
     },
     "execution_count": 42,
     "metadata": {
      "tags": []
     },
     "output_type": "execute_result"
    }
   ],
   "source": [
    "n = int(input(\"enter a number: \"))\n",
    "flag = int(n) % 2\n",
    "flag == 0"
   ]
  },
  {
   "cell_type": "code",
   "execution_count": 0,
   "metadata": {
    "colab": {
     "base_uri": "https://localhost:8080/",
     "height": 52
    },
    "colab_type": "code",
    "id": "mYjoE-dbixq_",
    "outputId": "7cc25f1f-4ac5-4070-e57d-6ad5369e44ce"
   },
   "outputs": [
    {
     "name": "stdout",
     "output_type": "stream",
     "text": [
      "당신의 점수는?100\n",
      "당신의 학점은A입니다\n"
     ]
    }
   ],
   "source": [
    "#학점 주는 프로그램\n",
    "score = int(input(\"당신의 점수는?\"))\n",
    "if score >= 90:\n",
    "  grade = \"A\"\n",
    "else:\n",
    "  grade = \"B\"\n",
    "print(\"당신의 학점은\"+grade+\"입니다\")"
   ]
  },
  {
   "cell_type": "code",
   "execution_count": 0,
   "metadata": {
    "colab": {
     "base_uri": "https://localhost:8080/",
     "height": 105
    },
    "colab_type": "code",
    "id": "9EhpeQYMlg92",
    "outputId": "fd7ef1f3-cdbc-4ac6-9b35-ba21cae64b06"
   },
   "outputs": [
    {
     "name": "stdout",
     "output_type": "stream",
     "text": [
      "첫번째 물건 값은?10000\n",
      "두번째 물건 값은?20000\n",
      "세번째 물건 값은?30000\n",
      "네번째 물건 값은?40000\n",
      "당신은 상품권을 받을 수 있습니다\n"
     ]
    }
   ],
   "source": [
    "#백화점 상품권\n",
    "price1 = int(input('첫번째 물건 값은?'))\n",
    "price2 = int(input('두번째 물건 값은?'))\n",
    "price3 = int(input('세번째 물건 값은?'))\n",
    "price4 = int(input('네번째 물건 값은?'))\n",
    "sum = price1 + price2 + price3 + price4\n",
    "if sum >= 100000:\n",
    "  print(\"당신은 상품권을 받을 수 있습니다\")\n",
    "else:\n",
    "  print(\"아쉽습니다. 다음을 기약하세요\")"
   ]
  },
  {
   "cell_type": "code",
   "execution_count": 0,
   "metadata": {
    "colab": {
     "base_uri": "https://localhost:8080/",
     "height": 52
    },
    "colab_type": "code",
    "id": "ydohgpPxnGCv",
    "outputId": "f3a48b5b-43de-47a5-e062-300b90868f56"
   },
   "outputs": [
    {
     "name": "stdout",
     "output_type": "stream",
     "text": [
      "당신의 성적은? 80\n",
      "당신의 학점은 B입니다.\n"
     ]
    }
   ],
   "source": [
    "#성적 대로 학점을 주는 프로그램\n",
    "score = int(input(\"당신의 성적은? \"))\n",
    "if score >= 90:\n",
    "  grade = \"A\"\n",
    "elif score >= 80:\n",
    "  grade = \"B\"\n",
    "elif score >= 70:\n",
    "  grade = \"C\"\n",
    "elif score >= 60:\n",
    "  grade = \"D\"\n",
    "else:\n",
    "  grade = \"F\"\n",
    "print(\"당신의 학점은 \" + grade + \"입니다.\")"
   ]
  },
  {
   "cell_type": "code",
   "execution_count": 1,
   "metadata": {
    "colab": {
     "base_uri": "https://localhost:8080/",
     "height": 35
    },
    "colab_type": "code",
    "id": "idi5pMMIqCKV",
    "outputId": "84ef34a5-4fc6-41c1-8c44-03f492caf976"
   },
   "outputs": [
    {
     "name": "stdout",
     "output_type": "stream",
     "text": [
      "bcd\n"
     ]
    }
   ],
   "source": [
    "a = 'abcdefghijklmnopqrstuvwxyz'\n",
    "print(a[1:4])   #슬라이싱"
   ]
  },
  {
   "cell_type": "code",
   "execution_count": 2,
   "metadata": {
    "colab": {
     "base_uri": "https://localhost:8080/",
     "height": 35
    },
    "colab_type": "code",
    "id": "1DOL2Dp_itIb",
    "outputId": "d93b77f2-5eb0-483c-9936-36e6f0be2fbb"
   },
   "outputs": [
    {
     "name": "stdout",
     "output_type": "stream",
     "text": [
      "26\n"
     ]
    }
   ],
   "source": [
    "print(len(a))  #a변수의 길이"
   ]
  },
  {
   "cell_type": "code",
   "execution_count": 5,
   "metadata": {
    "colab": {
     "base_uri": "https://localhost:8080/",
     "height": 53
    },
    "colab_type": "code",
    "id": "hEeaF9Ngi208",
    "outputId": "b8abd6e4-b498-45b8-c00e-e3500188eabc"
   },
   "outputs": [
    {
     "name": "stdout",
     "output_type": "stream",
     "text": [
      "<class 'int'>\n",
      "3\n"
     ]
    }
   ],
   "source": [
    "#형변환\n",
    "a = '3'\n",
    "b = int(a)\n",
    "print(type(b))\n",
    "print(b)"
   ]
  },
  {
   "cell_type": "markdown",
   "metadata": {
    "colab_type": "text",
    "id": "2UjiOmYNjEaw"
   },
   "source": [
    "연습문제 풀이"
   ]
  },
  {
   "cell_type": "code",
   "execution_count": 6,
   "metadata": {
    "colab": {
     "base_uri": "https://localhost:8080/",
     "height": 35
    },
    "colab_type": "code",
    "id": "oXkHdQ2zjdof",
    "outputId": "14492123-3684-4a2f-893b-05e41a1c8f30"
   },
   "outputs": [
    {
     "name": "stdout",
     "output_type": "stream",
     "text": [
      "**********Let's have fun**********\n"
     ]
    }
   ],
   "source": [
    "#1. 다음 프로그램의 결과는 무엇인가?\n",
    "start = '*'*10\n",
    "title = \"Let's have fun\"\n",
    "finish = '*'*10\n",
    "print(start + title + finish)"
   ]
  },
  {
   "cell_type": "code",
   "execution_count": 7,
   "metadata": {
    "colab": {
     "base_uri": "https://localhost:8080/",
     "height": 35
    },
    "colab_type": "code",
    "id": "uF9Kcy0lknI2",
    "outputId": "9f8a36ab-4c38-4152-bba1-1ee5bc653bbd"
   },
   "outputs": [
    {
     "name": "stdout",
     "output_type": "stream",
     "text": [
      "mpos\n"
     ]
    }
   ],
   "source": [
    "#2. 다음 프로그램의 결과는 무엇인가?\n",
    "title = \"Mission Impossible\"\n",
    "title[9:13]\n",
    "print(title[9:13])"
   ]
  },
  {
   "cell_type": "code",
   "execution_count": 8,
   "metadata": {
    "colab": {
     "base_uri": "https://localhost:8080/",
     "height": 53
    },
    "colab_type": "code",
    "id": "iE_BTN4mkw8H",
    "outputId": "1b0c8228-540a-4272-b22a-b2a794d7ab74"
   },
   "outputs": [
    {
     "name": "stdout",
     "output_type": "stream",
     "text": [
      "Enter the number7\n",
      "28\n"
     ]
    }
   ],
   "source": [
    "#3. 다음 실행문의 잘못된 부분을 찾으시오.\n",
    "n = int(input(\"Enter the number\"))\n",
    "m = n*4\n",
    "print(m)"
   ]
  },
  {
   "cell_type": "code",
   "execution_count": 12,
   "metadata": {
    "colab": {
     "base_uri": "https://localhost:8080/",
     "height": 35
    },
    "colab_type": "code",
    "id": "gX2GEd4klJjW",
    "outputId": "140baddc-0530-47d0-8e03-ee95d9ca3961"
   },
   "outputs": [
    {
     "name": "stdout",
     "output_type": "stream",
     "text": [
      "Hello!\n"
     ]
    }
   ],
   "source": [
    "#4. 다음 실행문이 잘못된 이유를 적으시오.\n",
    "greeting = 'hello!'\n",
    "#greeting[0] = 'H' #인덱스로 뽑아서 하나를 바꿀 수는 없다\n",
    "greeting = 'Hello!'\n",
    "print(greeting)"
   ]
  },
  {
   "cell_type": "code",
   "execution_count": 14,
   "metadata": {
    "colab": {
     "base_uri": "https://localhost:8080/",
     "height": 71
    },
    "colab_type": "code",
    "id": "vMBN3oxbllVI",
    "outputId": "7320349a-d60d-429c-df09-1219ffaf869e"
   },
   "outputs": [
    {
     "name": "stdout",
     "output_type": "stream",
     "text": [
      "연필은 몇 개를 구입하시겠습니까? 5\n",
      "펜은 몇 개를 구입하시겠습니까? 5\n",
      "총 가격은 24500.0 원 입니다\n"
     ]
    }
   ],
   "source": [
    "#5. 다음 요규사항을 분석하여 프로그램을 작성하시오.\n",
    "pencil_price = 3000\n",
    "pen_price = 4000\n",
    "num_pencil = int(input('연필은 몇 개를 구입하시겠습니까? '))\n",
    "num_pen = int(input('펜은 몇 개를 구입하시겠습니까? '))\n",
    "sum_pencil = pencil_price * num_pencil\n",
    "sum_pen = pen_price * num_pen\n",
    "total_price = (sum_pencil + sum_pen) * 0.7\n",
    "print(\"총 가격은\",total_price,\"원 입니다\")"
   ]
  },
  {
   "cell_type": "code",
   "execution_count": 0,
   "metadata": {
    "colab": {},
    "colab_type": "code",
    "id": "kcp3ThFMmfDF"
   },
   "outputs": [],
   "source": [
    "#6. 다음 문제를 보고 맞으면 O, 틀리면 X를 쓰시오\n",
    "#X\n",
    "#10\n",
    "#O\n",
    "#X\n",
    "#O\n",
    "#O\n",
    "#O"
   ]
  },
  {
   "cell_type": "code",
   "execution_count": 0,
   "metadata": {
    "colab": {},
    "colab_type": "code",
    "id": "edMVOlKbnOgr"
   },
   "outputs": [],
   "source": [
    "#7. 다음 문제를 보고 빈칸을 채워보시오.\n",
    "#len()\n",
    "#int, float\n",
    "#type"
   ]
  },
  {
   "cell_type": "code",
   "execution_count": 18,
   "metadata": {
    "colab": {
     "base_uri": "https://localhost:8080/",
     "height": 35
    },
    "colab_type": "code",
    "id": "GHitTtwNna1K",
    "outputId": "01c680f1-996a-4c9d-b1c6-c830051e5579"
   },
   "outputs": [
    {
     "name": "stdout",
     "output_type": "stream",
     "text": [
      "easy programmin\n"
     ]
    }
   ],
   "source": [
    "#8. 다음 실행문을 보고 빈칸을 채워보시오\n",
    "python = 'python is easy programming language'\n",
    "python[10:25]\n",
    "print(python[10:25])"
   ]
  },
  {
   "cell_type": "code",
   "execution_count": 19,
   "metadata": {
    "colab": {
     "base_uri": "https://localhost:8080/",
     "height": 35
    },
    "colab_type": "code",
    "id": "W2iV3lgxnpfw",
    "outputId": "5cab49bb-4759-42a3-fff9-0954f9cc272b"
   },
   "outputs": [
    {
     "name": "stdout",
     "output_type": "stream",
     "text": [
      "helloworld\n"
     ]
    }
   ],
   "source": [
    "#9. 다음 실행문을 보고 빈칸을 채워보시오.\n",
    "a = 'hello'\n",
    "b = 'world'\n",
    "print(a + b)"
   ]
  },
  {
   "cell_type": "code",
   "execution_count": 20,
   "metadata": {
    "colab": {
     "base_uri": "https://localhost:8080/",
     "height": 35
    },
    "colab_type": "code",
    "id": "aSozair5n31U",
    "outputId": "15080b7d-c066-4215-c9a0-eb9f29b56246"
   },
   "outputs": [
    {
     "name": "stdout",
     "output_type": "stream",
     "text": [
      "Mom\n"
     ]
    }
   ],
   "source": [
    "#10. 다음 실행문을 보고 빈칸을 채워보시오.\n",
    "string = 'My name is tommy'\n",
    "print(string[0] + string[12:14])"
   ]
  },
  {
   "cell_type": "code",
   "execution_count": 21,
   "metadata": {
    "colab": {
     "base_uri": "https://localhost:8080/",
     "height": 53
    },
    "colab_type": "code",
    "id": "RXBBU1AToB6t",
    "outputId": "4ecfc786-c603-4d9e-a4f5-acdc52dfeab5"
   },
   "outputs": [
    {
     "name": "stdout",
     "output_type": "stream",
     "text": [
      "4\n",
      "10\n"
     ]
    }
   ],
   "source": [
    "#11. 아래의 프로그램 결과가 나오게 하기 위해 빈칸에 들어갈 명령어는?\n",
    "number1 = input()\n",
    "number1 = int(number1)\n",
    "number1 + 6\n",
    "print(number1+6)"
   ]
  },
  {
   "cell_type": "code",
   "execution_count": 22,
   "metadata": {
    "colab": {
     "base_uri": "https://localhost:8080/",
     "height": 71
    },
    "colab_type": "code",
    "id": "svtFPrMCoREa",
    "outputId": "b3e1af32-2bb1-43fd-c84c-b03c98e1c000"
   },
   "outputs": [
    {
     "name": "stdout",
     "output_type": "stream",
     "text": [
      "거리100\n",
      "시간5\n",
      "20.0\n"
     ]
    }
   ],
   "source": [
    "#12. 거리(D)와 시간(T)를 입력하여 속도(S)를 구하는 프로그램을 작성하라.\n",
    "D = int(input('거리'))\n",
    "T = int(input('시간'))\n",
    "S = D/T\n",
    "print(S)"
   ]
  },
  {
   "cell_type": "code",
   "execution_count": 23,
   "metadata": {
    "colab": {
     "base_uri": "https://localhost:8080/",
     "height": 35
    },
    "colab_type": "code",
    "id": "qBs8IUqwol0c",
    "outputId": "41d8af81-30bc-4909-b59e-16a19388adce"
   },
   "outputs": [
    {
     "name": "stdout",
     "output_type": "stream",
     "text": [
      "4\n"
     ]
    }
   ],
   "source": [
    "#13. 두 좌표 (x1,x1), (x2,x2)에 각각 (3,5),(-1,4)을 입력하여 직각삼각형의 넓이 (area)를 구하여라\n",
    "x1 = 3\n",
    "y1 = 5\n",
    "x2 = -1\n",
    "y2 = 4\n",
    "print((x1-x2) * (y1-y2))"
   ]
  },
  {
   "cell_type": "code",
   "execution_count": 27,
   "metadata": {
    "colab": {
     "base_uri": "https://localhost:8080/",
     "height": 53
    },
    "colab_type": "code",
    "id": "HcWrv7ZLpJaD",
    "outputId": "2f0ff0bf-f435-44bb-abe4-3e6d8adc2de8"
   },
   "outputs": [
    {
     "name": "stdout",
     "output_type": "stream",
     "text": [
      "숫자: 10\n",
      "@@@@@@@@@@\n"
     ]
    }
   ],
   "source": [
    "#14. 사용자가 x의 값을 입력하게 하여 입력한 x만큼 @를 표시하는 프로그램을 작성하라\n",
    "num = int(input('숫자: '))\n",
    "print('@'*num)"
   ]
  },
  {
   "cell_type": "code",
   "execution_count": 28,
   "metadata": {
    "colab": {
     "base_uri": "https://localhost:8080/",
     "height": 71
    },
    "colab_type": "code",
    "id": "rxinoOJkpVYE",
    "outputId": "39d797ae-fdeb-4328-8e98-0130c7ed19b0"
   },
   "outputs": [
    {
     "name": "stdout",
     "output_type": "stream",
     "text": [
      "last_name을 입력하시오: 오\n",
      "first_name을 입력하시오: 재훈\n",
      "오재훈\n"
     ]
    }
   ],
   "source": [
    "#15. 'last_name을 입력하시오' 'fist_name을 입력하시오'출력 뒤 각각 해당하는 내용을 입력하여 fullname으로 출력하는 프로그램을 작성하라.\n",
    "last_name = input('last_name을 입력하시오: ')\n",
    "first_name = input('first_name을 입력하시오: ')\n",
    "fullname = last_name + first_name\n",
    "print(fullname)"
   ]
  },
  {
   "cell_type": "code",
   "execution_count": null,
   "metadata": {
    "colab": {
     "base_uri": "https://localhost:8080/",
     "height": 89
    },
    "colab_type": "code",
    "id": "Ol59WZnuqBIs",
    "outputId": "0cb84bbf-b1ba-4a03-b702-6df76786c90b"
   },
   "outputs": [],
   "source": [
    "#16. '시각을 입력하시오' '분을 입력하시오' '초를 입력하시오' 출력 뒤 각각 해당하는 내용을 입력하여 초 단위로 알려주는 프로그램을 작성하라.\n",
    "time = int(input('시각을 입력하시오: '))\n",
    "minute = int(input('분을 입력하시오: '))\n",
    "second = int(input('초를 입력하시오: '))"
   ]
  },
  {
   "cell_type": "code",
   "execution_count": 29,
   "metadata": {
    "colab": {
     "base_uri": "https://localhost:8080/",
     "height": 89
    },
    "colab_type": "code",
    "id": "Ol59WZnuqBIs",
    "outputId": "0cb84bbf-b1ba-4a03-b702-6df76786c90b"
   },
   "outputs": [
    {
     "name": "stdout",
     "output_type": "stream",
     "text": [
      "시각을 입력하시오: 1\n",
      "분을 입력하시오: 1\n",
      "초를 입력하시오: 0\n",
      "3660\n"
     ]
    }
   ],
   "source": [
    "#16. '시각을 입력하시오' '분을 입력하시오' '초를 입력하시오' 출력 뒤 각각 해당하는 내용을 입력하여 초 단위로 알려주는 프로그램을 작성하라.\n",
    "time = int(input('시각을 입력하시오: '))\n",
    "minute = int(input('분을 입력하시오: '))\n",
    "second = int(input('초를 입력하시오: '))\n",
    "result = (3600 * time) + (minute * 60) + second\n",
    "print(result)"
   ]
  },
  {
   "cell_type": "code",
   "execution_count": 0,
   "metadata": {
    "colab": {},
    "colab_type": "code",
    "id": "P3ya1ZsAqtuH"
   },
   "outputs": [],
   "source": []
  }
 ],
 "metadata": {
  "colab": {
   "collapsed_sections": [],
   "name": "Ch4_자료의 입력과 출력.ipynb의 사본",
   "provenance": [],
   "version": "0.3.2"
  },
  "kernelspec": {
   "display_name": "Python 3",
   "language": "python",
   "name": "python3"
  },
  "language_info": {
   "codemirror_mode": {
    "name": "ipython",
    "version": 3
   },
   "file_extension": ".py",
   "mimetype": "text/x-python",
   "name": "python",
   "nbconvert_exporter": "python",
   "pygments_lexer": "ipython3",
   "version": "3.7.0"
  }
 },
 "nbformat": 4,
 "nbformat_minor": 1
}
